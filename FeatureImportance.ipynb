{
  "nbformat": 4,
  "nbformat_minor": 0,
  "metadata": {
    "colab": {
      "provenance": [],
      "gpuType": "T4",
      "authorship_tag": "ABX9TyM9/2/6JT2Ono65lfsXxgKg",
      "include_colab_link": true
    },
    "kernelspec": {
      "name": "python3",
      "display_name": "Python 3"
    },
    "language_info": {
      "name": "python"
    },
    "accelerator": "GPU"
  },
  "cells": [
    {
      "cell_type": "markdown",
      "metadata": {
        "id": "view-in-github",
        "colab_type": "text"
      },
      "source": [
        "<a href=\"https://colab.research.google.com/github/majidiali1/machine-learning/blob/main/FeatureImportance.ipynb\" target=\"_parent\"><img src=\"https://colab.research.google.com/assets/colab-badge.svg\" alt=\"Open In Colab\"/></a>"
      ]
    },
    {
      "cell_type": "markdown",
      "source": [
        "# **Feature Selection**"
      ],
      "metadata": {
        "id": "2LtdHVTAyw8t"
      }
    },
    {
      "cell_type": "markdown",
      "source": [
        "# **Principle Component Analysis**"
      ],
      "metadata": {
        "id": "-4jznS72y1IE"
      }
    },
    {
      "cell_type": "code",
      "source": [
        "from sklearn.preprocessing import StandardScaler\n",
        "import pandas as pd\n",
        "from sklearn.decomposition import PCA\n",
        "import matplotlib.pyplot as plt\n",
        "\n",
        "# Sample DataFrame\n",
        "data = {\n",
        "    'feature1': [1, 4, 6, 8, 10],\n",
        "    'feature2': [5, 4, 8, 2, 1],\n",
        "    'feature3': [1, 4, 6, 8, 10]\n",
        "}\n",
        "df = pd.DataFrame(data)"
      ],
      "metadata": {
        "id": "qj7WNbuO-Hqq"
      },
      "execution_count": 55,
      "outputs": []
    },
    {
      "cell_type": "code",
      "source": [
        "# Standardizing the features\n",
        "scaler = StandardScaler()\n",
        "df_scaled = scaler.fit_transform(df)\n",
        "\n",
        "# Applying PCA\n",
        "pca = PCA(n_components=2)  # None means all components are kept\n",
        "pca.fit(df_scaled)\n",
        "X_pca = pca.fit_transform(df)\n",
        "\n",
        "explained_variance_ratio = pca.explained_variance_ratio_\n",
        "feature_importance_matrix = pd.DataFrame(pca.components_, columns=df.columns, index=[f'PC{i+1}' for i in range(len(pca.components_))])\n"
      ],
      "metadata": {
        "id": "aQ9qIUAfy5j0"
      },
      "execution_count": 48,
      "outputs": []
    },
    {
      "cell_type": "code",
      "source": [
        "fig, axes = plt.subplots(nrows=1, ncols=2, figsize=(22, 7))\n",
        "\n",
        "# Scree Plot\n",
        "axes[0].bar(range(1, pca.n_components_ + 1), pca.explained_variance_ratio_)\n",
        "axes[0].set_title('Scree Plot')\n",
        "axes[0].set_xlabel('Principal Component')\n",
        "axes[0].set_ylabel('Variance Explained')\n",
        "axes[0].set_xticks(range(1, pca.n_components_ + 1))\n",
        "\n",
        "# PCA Component Makeup\n",
        "feature_importance_matrix.abs().plot(kind='bar', ax=axes[1])\n",
        "axes[1].set_title('PCA Component Makeup')\n",
        "axes[1].set_ylabel('Absolute Coefficient Value')\n",
        "axes[1].set_xlabel('Principal Components')\n",
        "\n",
        "# Show the plots\n",
        "plt.tight_layout()  # Adjust layout to not overlap\n",
        "plt.show()"
      ],
      "metadata": {
        "id": "rfFCu1521vsb"
      },
      "execution_count": null,
      "outputs": []
    },
    {
      "cell_type": "markdown",
      "source": [
        "# **Feature Correlation Matrix**"
      ],
      "metadata": {
        "id": "Ot1l2v5K99RE"
      }
    },
    {
      "cell_type": "code",
      "source": [
        "import seaborn as sns\n",
        "import matplotlib.pyplot as plt\n",
        "\n",
        "# Assuming `df` is your DataFrame\n",
        "corr_matrix = df.corr()\n",
        "print(corr_matrix)\n",
        "\n",
        "plt.figure(figsize=(10, 8))\n",
        "sns.heatmap(corr_matrix, annot=True, fmt=\".2f\", cmap='coolwarm')\n",
        "plt.title(\"Feature Correlation Matrix\")\n",
        "plt.show()"
      ],
      "metadata": {
        "id": "yKpv5wJx-BAg"
      },
      "execution_count": null,
      "outputs": []
    },
    {
      "cell_type": "markdown",
      "source": [
        "# **Mutual Information Regression**"
      ],
      "metadata": {
        "id": "c3SdVgVqClMb"
      }
    },
    {
      "cell_type": "code",
      "source": [
        "from sklearn.feature_selection import mutual_info_regression\n",
        "import numpy as np\n",
        "\n",
        "# Assuming df is your DataFrame and it's all numeric\n",
        "mi = mutual_info_regression(df, np.random.rand(df.shape[0]))\n",
        "mi_scores = pd.Series(mi, name=\"MI Scores\", index=df.columns)\n",
        "mi_scores = mi_scores.sort_values(ascending=False)\n",
        "\n",
        "print(mi_scores)"
      ],
      "metadata": {
        "id": "6tEh2Sh-CpNU"
      },
      "execution_count": null,
      "outputs": []
    }
  ]
}