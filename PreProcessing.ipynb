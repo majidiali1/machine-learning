{
  "nbformat": 4,
  "nbformat_minor": 0,
  "metadata": {
    "colab": {
      "provenance": [],
      "gpuType": "T4",
      "authorship_tag": "ABX9TyP8T5mA3VumVjvA1i3fWo/m",
      "include_colab_link": true
    },
    "kernelspec": {
      "name": "python3",
      "display_name": "Python 3"
    },
    "language_info": {
      "name": "python"
    },
    "accelerator": "GPU"
  },
  "cells": [
    {
      "cell_type": "markdown",
      "metadata": {
        "id": "view-in-github",
        "colab_type": "text"
      },
      "source": [
        "<a href=\"https://colab.research.google.com/github/majidiali1/machine-learning/blob/main/PreProcessing.ipynb\" target=\"_parent\"><img src=\"https://colab.research.google.com/assets/colab-badge.svg\" alt=\"Open In Colab\"/></a>"
      ]
    },
    {
      "cell_type": "markdown",
      "source": [
        "# **Data Cleaning**"
      ],
      "metadata": {
        "id": "mkOrOmgPXjSu"
      }
    },
    {
      "cell_type": "code",
      "source": [
        "import pandas as pd\n",
        "import numpy as np\n",
        "\n",
        "def fill_missing_values(df, method='drop', value=None):\n",
        "    \"\"\" methods: Method to handle missing values ('drop', 'constant', 'mean', 'median', 'mode', 'ffill', 'bfill') \"\"\"\n",
        "\n",
        "    nNAs = df.isnull().any(axis=1).sum()\n",
        "    nT = len(df.index)\n",
        "    pNAs = int(nNAs/nT*100)\n",
        "    print(f'{nNAs} samples ({pNAs})% include NA values.')\n",
        "\n",
        "    df_filled = df.copy()\n",
        "\n",
        "    if method == 'drop':\n",
        "        df_filled.dropna(inplace=True)\n",
        "    elif method == 'constant':\n",
        "        if value is None:\n",
        "            raise ValueError(\"For method='constant', a value must be provided.\")\n",
        "        df_filled.fillna(value, inplace=True)\n",
        "    elif method == 'mean':\n",
        "        df_filled.fillna(df.mean(), inplace=True)\n",
        "    elif method == 'median':\n",
        "        df_filled.fillna(df.median(), inplace=True)\n",
        "    elif method == 'mode':\n",
        "        # Mode can return multiple values per column, use the first one\n",
        "        for column in df_filled.columns:\n",
        "            df_filled[column].fillna(df_filled[column].mode()[0], inplace=True)\n",
        "    elif method == 'ffill':\n",
        "        df_filled.fillna(method='ffill', inplace=True)\n",
        "    elif method == 'bfill':\n",
        "        df_filled.fillna(method='bfill', inplace=True)\n",
        "    else:\n",
        "        raise ValueError(\"Unsupported method provided.\")\n",
        "\n",
        "    return df_filled\n",
        "\n",
        "# Example usage:\n",
        "# Create a sample DataFrame with missing values\n",
        "data = {\n",
        "    'A': [1, np.nan, 3, 4, 5],\n",
        "    'B': [np.nan, 2, 3, np.nan, 5],\n",
        "    'C': [1, 2, np.nan, 4, 5]\n",
        "}\n",
        "df = pd.DataFrame(data)\n",
        "\n",
        "# Fill missing values using a specific method, e.g., 'mean'\n",
        "df_filled = fill_missing_values(df, method='mean')\n",
        "print(df_filled)\n",
        "\n"
      ],
      "metadata": {
        "id": "T6rR6qoQXmyw"
      },
      "execution_count": null,
      "outputs": []
    },
    {
      "cell_type": "markdown",
      "source": [
        "# **Smooth Noise Data**"
      ],
      "metadata": {
        "id": "VY-MB7dqX8gP"
      }
    },
    {
      "cell_type": "code",
      "source": [
        "import pandas as pd\n",
        "import numpy as np\n",
        "\n",
        "def smooth_data(df, column_name, method='moving_average', window_size=3, alpha=0.3):\n",
        "    \"\"\" methods: The smoothing method ('moving_average' or 'exponential_moving_average') \"\"\"\n",
        "    if method == 'moving_average':\n",
        "        return df[column_name].rolling(window=window_size, min_periods=1, center=True).mean()\n",
        "    elif method == 'exponential_moving_average':\n",
        "        return df[column_name].ewm(alpha=alpha, adjust=False).mean()\n",
        "    else:\n",
        "        raise ValueError(\"Unsupported smoothing method provided.\")\n",
        "\n",
        "# Example usage\n",
        "# Create a sample DataFrame\n",
        "data = {\n",
        "    'time': range(1, 11),\n",
        "    'value': [2, 3, 4, 15, 6, 7, 67, 5, 4, 5]\n",
        "}\n",
        "df = pd.DataFrame(data)\n",
        "\n",
        "# Apply smoothing\n",
        "smoothed_series_moving_average = smooth_data(df, 'value', method='moving_average', window_size=3)\n",
        "smoothed_series_exponential = smooth_data(df, 'value', method='exponential_moving_average', alpha=0.3)\n",
        "\n",
        "# Print or plot the results\n",
        "print(\"Moving Average:\\n\", smoothed_series_moving_average)\n",
        "print(\"\\nExponential Moving Average:\\n\", smoothed_series_exponential)\n"
      ],
      "metadata": {
        "colab": {
          "base_uri": "https://localhost:8080/"
        },
        "id": "2wG22N5oYA_u",
        "outputId": "02aeefe2-26c3-4104-adf5-49aed191ee9e"
      },
      "execution_count": 34,
      "outputs": [
        {
          "output_type": "stream",
          "name": "stdout",
          "text": [
            "Moving Average:\n",
            " 0     2.500000\n",
            "1     3.000000\n",
            "2     7.333333\n",
            "3     8.333333\n",
            "4     9.333333\n",
            "5    26.666667\n",
            "6    26.333333\n",
            "7    25.333333\n",
            "8     4.666667\n",
            "9     4.500000\n",
            "Name: value, dtype: float64\n",
            "\n",
            "Exponential Moving Average:\n",
            " 0     2.000000\n",
            "1     2.300000\n",
            "2     2.810000\n",
            "3     6.467000\n",
            "4     6.326900\n",
            "5     6.528830\n",
            "6    24.670181\n",
            "7    18.769127\n",
            "8    14.338389\n",
            "9    11.536872\n",
            "Name: value, dtype: float64\n"
          ]
        }
      ]
    },
    {
      "cell_type": "markdown",
      "source": [
        "# **Detect Outliers**"
      ],
      "metadata": {
        "id": "RgU0jNEnYgOk"
      }
    },
    {
      "cell_type": "code",
      "source": [
        "import pandas as pd\n",
        "import numpy as np\n",
        "from scipy import stats\n",
        "\n",
        "def detect_and_remove_outliers(df, column_name, method='iqr'):\n",
        "    \"\"\"\n",
        "    Detects and removes outliers in a specified column of a pandas DataFrame using the specified method.\n",
        "    Prints the percentage of outlier samples before removing them.\n",
        "\n",
        "    Parameters:\n",
        "    - method: The method for detecting outliers:\n",
        "        - 'iqr': Uses the Interquartile Range (IQR) for outlier detection.\n",
        "            IQR is calculated as Q3 - Q1, where Q1 and Q3 are the 25th and 75th percentiles, respectively.\n",
        "            Outliers are defined as observations that fall below Q1 - 1.5*IQR or above Q3 + 1.5*IQR.\n",
        "        - 'z_score': Uses Z-scores for outlier detection.\n",
        "            Z-score of an observation is calculated as (X - μ) / σ, where X is the observation, μ is the mean,\n",
        "            and σ is the standard deviation of the dataset.\n",
        "            An observation is considered an outlier if its Z-score is greater than 3 or less than -3, indicating\n",
        "            it is more than 3 standard deviations away from the mean.\n",
        "\n",
        "    Returns:\n",
        "    - DataFrame without outliers.\n",
        "    \"\"\"\n",
        "    if method == 'iqr':\n",
        "        Q1 = df[column_name].quantile(0.25)\n",
        "        Q3 = df[column_name].quantile(0.75)\n",
        "        IQR = Q3 - Q1\n",
        "\n",
        "        lower_bound = Q1 - 1.5 * IQR\n",
        "        upper_bound = Q3 + 1.5 * IQR\n",
        "\n",
        "        outliers = (df[column_name] < lower_bound) | (df[column_name] > upper_bound)\n",
        "    elif method == 'z_score':\n",
        "        z = np.abs(stats.zscore(df[column_name]))\n",
        "        outliers = z > 1\n",
        "    else:\n",
        "        raise ValueError(\"Unsupported method provided.\")\n",
        "\n",
        "    # Calculate and print the percentage of outliers\n",
        "    outlier_percentage = 100 * outliers.sum() / len(df)\n",
        "    print(f\"Percentage of outlier samples: {outlier_percentage:.2f}%\")\n",
        "\n",
        "    # Remove outliers\n",
        "    df_cleaned = df[~outliers]\n",
        "\n",
        "    return df_cleaned\n",
        "\n",
        "# Example usage\n",
        "data = {\n",
        "    'time': range(1, 11),\n",
        "    'value': [2, 3, 4, 5, 6, 1000, 60, 5, 4, 5]  # Assuming 100 is an outlier\n",
        "}\n",
        "df = pd.DataFrame(data)\n",
        "\n",
        "# Detect and remove outliers using IQR\n",
        "df_cleaned_iqr = detect_and_remove_outliers(df, 'value', method='iqr')\n",
        "print(\"\\nDataFrame after removing outliers using IQR:\\n\", df_cleaned_iqr)"
      ],
      "metadata": {
        "colab": {
          "base_uri": "https://localhost:8080/"
        },
        "id": "GegGSxZfYrQT",
        "outputId": "0f832044-14f1-4c2b-d336-3a47399ad667"
      },
      "execution_count": 44,
      "outputs": [
        {
          "output_type": "stream",
          "name": "stdout",
          "text": [
            "Percentage of outlier samples: 20.00%\n",
            "\n",
            "DataFrame after removing outliers using IQR:\n",
            "    time  value\n",
            "0     1      2\n",
            "1     2      3\n",
            "2     3      4\n",
            "3     4      5\n",
            "4     5      6\n",
            "7     8      5\n",
            "8     9      4\n",
            "9    10      5\n"
          ]
        }
      ]
    }
  ]
}