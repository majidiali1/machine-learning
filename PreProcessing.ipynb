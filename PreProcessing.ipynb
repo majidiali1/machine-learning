{
  "nbformat": 4,
  "nbformat_minor": 0,
  "metadata": {
    "colab": {
      "provenance": [],
      "gpuType": "T4",
      "authorship_tag": "ABX9TyOu7S6qIYiYJ/x5g3aSPMPV",
      "include_colab_link": true
    },
    "kernelspec": {
      "name": "python3",
      "display_name": "Python 3"
    },
    "language_info": {
      "name": "python"
    },
    "accelerator": "GPU"
  },
  "cells": [
    {
      "cell_type": "markdown",
      "metadata": {
        "id": "view-in-github",
        "colab_type": "text"
      },
      "source": [
        "<a href=\"https://colab.research.google.com/github/majidiali1/machine-learning/blob/main/PreProcessing.ipynb\" target=\"_parent\"><img src=\"https://colab.research.google.com/assets/colab-badge.svg\" alt=\"Open In Colab\"/></a>"
      ]
    },
    {
      "cell_type": "code",
      "source": [
        "import pandas as pd\n",
        "import numpy as np\n",
        "\n",
        "def fill_missing_values(df, method='drop', value=None):\n",
        "    \"\"\" methods: Method to handle missing values ('drop', 'constant', 'mean', 'median', 'mode', 'ffill', 'bfill') \"\"\"\n",
        "\n",
        "    nNAs = df.isnull().any(axis=1).sum()\n",
        "    nT = len(df.index)\n",
        "    pNAs = int(nNAs/nT*100)\n",
        "    print(f'{nNAs} samples ({pNAs})% include NA values.')\n",
        "\n",
        "    df_filled = df.copy()\n",
        "\n",
        "    if method == 'drop':\n",
        "        df_filled.dropna(inplace=True)\n",
        "    elif method == 'constant':\n",
        "        if value is None:\n",
        "            raise ValueError(\"For method='constant', a value must be provided.\")\n",
        "        df_filled.fillna(value, inplace=True)\n",
        "    elif method == 'mean':\n",
        "        df_filled.fillna(df.mean(), inplace=True)\n",
        "    elif method == 'median':\n",
        "        df_filled.fillna(df.median(), inplace=True)\n",
        "    elif method == 'mode':\n",
        "        # Mode can return multiple values per column, use the first one\n",
        "        for column in df_filled.columns:\n",
        "            df_filled[column].fillna(df_filled[column].mode()[0], inplace=True)\n",
        "    elif method == 'ffill':\n",
        "        df_filled.fillna(method='ffill', inplace=True)\n",
        "    elif method == 'bfill':\n",
        "        df_filled.fillna(method='bfill', inplace=True)\n",
        "    else:\n",
        "        raise ValueError(\"Unsupported method provided.\")\n",
        "\n",
        "    return df_filled\n",
        "\n",
        "# Example usage:\n",
        "# Create a sample DataFrame with missing values\n",
        "data = {\n",
        "    'A': [1, np.nan, 3, 4, 5],\n",
        "    'B': [np.nan, 2, 3, np.nan, 5],\n",
        "    'C': [1, 2, np.nan, 4, 5]\n",
        "}\n",
        "df = pd.DataFrame(data)\n",
        "\n",
        "# Fill missing values using a specific method, e.g., 'mean'\n",
        "df_filled = fill_missing_values(df, method='mean')\n",
        "print(df_filled)\n"
      ],
      "metadata": {
        "colab": {
          "base_uri": "https://localhost:8080/"
        },
        "id": "IgYiRrfqBbsM",
        "outputId": "da6d731c-d071-4b8f-8bfa-2661a17d58b3"
      },
      "execution_count": 30,
      "outputs": [
        {
          "output_type": "stream",
          "name": "stdout",
          "text": [
            "4 samples (80)% include NA values.\n",
            "      A         B    C\n",
            "0  1.00  3.333333  1.0\n",
            "1  3.25  2.000000  2.0\n",
            "2  3.00  3.000000  3.0\n",
            "3  4.00  3.333333  4.0\n",
            "4  5.00  5.000000  5.0\n"
          ]
        }
      ]
    }
  ]
}